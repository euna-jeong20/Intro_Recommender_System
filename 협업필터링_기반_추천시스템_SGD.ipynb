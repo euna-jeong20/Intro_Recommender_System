{
  "nbformat": 4,
  "nbformat_minor": 0,
  "metadata": {
    "colab": {
      "name": "협업필터링 기반 추천시스템 - SGD.ipynb",
      "provenance": [],
      "collapsed_sections": [],
      "authorship_tag": "ABX9TyM+clt/LQUfEdcJ5IpmfJ9l",
      "include_colab_link": true
    },
    "kernelspec": {
      "name": "python3",
      "display_name": "Python 3"
    },
    "language_info": {
      "name": "python"
    }
  },
  "cells": [
    {
      "cell_type": "markdown",
      "metadata": {
        "id": "view-in-github",
        "colab_type": "text"
      },
      "source": [
        "<a href=\"https://colab.research.google.com/github/euna-jeong20/Intro_Recommender_System/blob/main/%ED%98%91%EC%97%85%ED%95%84%ED%84%B0%EB%A7%81_%EA%B8%B0%EB%B0%98_%EC%B6%94%EC%B2%9C%EC%8B%9C%EC%8A%A4%ED%85%9C_SGD.ipynb\" target=\"_parent\"><img src=\"https://colab.research.google.com/assets/colab-badge.svg\" alt=\"Open In Colab\"/></a>"
      ]
    },
    {
      "cell_type": "markdown",
      "metadata": {
        "id": "ASJl7hd3JCUW"
      },
      "source": [
        "* Base code : https://yamalab.tistory.com/92"
      ]
    },
    {
      "cell_type": "code",
      "metadata": {
        "id": "UhMYspUtI31k"
      },
      "source": [
        "import numpy as np\n",
        "from tqdm import tqdm_notebook as tqdm"
      ],
      "execution_count": null,
      "outputs": []
    },
    {
      "cell_type": "code",
      "metadata": {
        "id": "eZQpZvyqJRXA"
      },
      "source": [
        "class MatrixFactorization():\n",
        "    def __init__(self, R, k, learning_rate, reg_param, epochs, verbose=False):\n",
        "        \n",
        "        \"\"\"\n",
        "        :param R: rating matrix\n",
        "        :param k: latent parameter\n",
        "        :param learning_rate: alpha on weight update\n",
        "        :param reg_param: beta on weight update\n",
        "        :param epochs: training epochs\n",
        "        :param verbose: print status\n",
        "        \"\"\"\n",
        "\n",
        "        self._R = R\n",
        "        self._num_users, self._num_items = R.shape      #유저 수와 아이템 개수\n",
        "        self._k = k         #latent space의 크기\n",
        "        self._learning_rate = learning_rate\n",
        "        self._reg_param = reg_param     #regularization 하이퍼파라미터\n",
        "        self._epochs = epochs\n",
        "        self._verbose = verbose     #학습과정을 보여주냐 아니냐\n",
        "\n",
        "    def fit(self):\n",
        "        \"\"\"\n",
        "        training Matrix Factorization : Update matrix latent weight and bias\n",
        "\n",
        "        참고: self._b에 대한 설명\n",
        "        - global bias: input R에서 평가가 매겨진 rating의 평균값을 global bias로 사용\n",
        "        - 정규화 기능. 최종 rating에 음수가 들어가는 것 대신 latent feature에 음수가 포함되도록 해줌.\n",
        "\n",
        "        :return: training_process\n",
        "        \"\"\"\n",
        "\n",
        "        #latent features 초기화\n",
        "        self._P = np.random.normal(size=(self._num_users, self._k))     #유저에 대한 latent space\n",
        "        self._Q = np.random.normal(size=(self._num_items, self._k))     #아이템에 대한 latent space\n",
        "\n",
        "        #편향 초기화\n",
        "        self._b_P = np.zeros(self._num_users)\n",
        "        self._b_Q = np.zeros(self._num_items)\n",
        "        self._b = np.mean(self._R[np.where(self._R !=0)])\n",
        "\n",
        "        self._training_precess = []\n",
        "        for epoch in range(self._epochs):\n",
        "            #rating이 존재하는 index를 기준으로 training\n",
        "            xi, yi = self._R.nonzero()      #0이 아닌 부분의 좌표x,y값 출력\n",
        "            for i, j in zip(xi, yi):\n",
        "                self.gradient_descent(i, j, self._R[i, j])\n",
        "            cost = self.cost()\n",
        "            self._training_precess.append((epoch, cost))\n",
        "\n",
        "            # print status\n",
        "            if self._verbose == True and ((epoch + 1) % 10 == 0):\n",
        "                print(\"Iteration: %d ; cost = %.4f\" % (epoch + 1, cost))\n",
        "\n",
        "\n",
        "    def cost(self):\n",
        "        \"\"\"\n",
        "        compute root mean square error\n",
        "        :return: rmse cost\n",
        "        \"\"\"\n",
        "\n",
        "        # xi, yi: R[xi, yi]는 nonzero인 value를 의미한다.\n",
        "        # 참고: http://codepractice.tistory.com/90\n",
        "        xi, yi = self._R.nonzero()\n",
        "        # predicted = self.get_complete_matrix()\n",
        "        cost = 0\n",
        "        for x, y in zip(xi, yi):\n",
        "            cost += pow(self._R[x, y] - self.get_prediction(x, y), 2)\n",
        "        return np.sqrt(cost/len(xi))\n",
        "\n",
        "\n",
        "    def gradient(self, error, i, j):\n",
        "        \"\"\"\n",
        "        gradient of latent feature for GD\n",
        "\n",
        "        :param error: rating - prediction error\n",
        "        :param i: user index\n",
        "        :param j: item index\n",
        "        :return: gradient of latent feature tuple\n",
        "        \"\"\"\n",
        "\n",
        "        dp = (error * self._Q[j, :]) - (self._reg_param * self._P[i, :])\n",
        "        dq = (error * self._P[i, :]) - (self._reg_param * self._Q[j, :])\n",
        "        return dp, dq\n",
        "\n",
        "\n",
        "    def gradient_descent(self, i, j, rating):\n",
        "        \"\"\"\n",
        "        graident descent function\n",
        "\n",
        "        :param i: user index of matrix\n",
        "        :param j: item index of matrix\n",
        "        :param rating: rating of (i,j)\n",
        "        \"\"\"\n",
        "\n",
        "        # 에러 계산\n",
        "        prediction = self.get_prediction(i, j)      #만든 유저 latent X 만든 아이템 latent + 편향\n",
        "        error = rating - prediction\n",
        "\n",
        "        # 편향 업데이트\n",
        "        self._b_P[i] += self._learning_rate * (error - self._reg_param * self._b_P[i])\n",
        "        self._b_Q[j] += self._learning_rate * (error - self._reg_param * self._b_Q[j])\n",
        "\n",
        "        # 유저 latent , 아이템 latent 업데이트\n",
        "        dp, dq = self.gradient(error, i, j)\n",
        "        self._P[i, :] += self._learning_rate * dp\n",
        "        self._Q[j, :] += self._learning_rate * dq\n",
        "\n",
        "\n",
        "    def get_prediction(self, i, j):\n",
        "        \"\"\"\n",
        "        get predicted rating: user_i, item_j\n",
        "        :return: prediction of r_ij\n",
        "        \"\"\"\n",
        "        return self._b + self._b_P[i] + self._b_Q[j] + self._P[i, :].dot(self._Q[j, :].T)       #만든 유저 latent X 만든 아이템 latent + 편향\n",
        "\n",
        "\n",
        "    def get_complete_matrix(self):\n",
        "        \"\"\"\n",
        "        computer complete matrix PXQ + P.bias + Q.bias + global bias\n",
        "\n",
        "        - PXQ 행렬에 b_P[:, np.newaxis]를 더하는 것은 각 열마다 bias를 더해주는 것\n",
        "        - b_Q[np.newaxis:, ]를 더하는 것은 각 행마다 bias를 더해주는 것\n",
        "        - b를 더하는 것은 각 element마다 bias를 더해주는 것\n",
        "\n",
        "        - newaxis: 차원을 추가해줌. 1차원인 Latent들로 2차원의 R에 행/열 단위 연산을 해주기위해 차원을 추가하는 것.\n",
        "\n",
        "        :return: complete matrix R^\n",
        "        \"\"\"\n",
        "        return self._b + self._b_P[:, np.newaxis] + self._b_Q[np.newaxis:, ] + self._P.dot(self._Q.T)\n",
        "\n",
        "\n",
        "\n",
        "# run example\n",
        "if __name__ == \"__main__\":\n",
        "    # rating matrix - User X Item : (7 X 5)\n",
        "    R = np.array([\n",
        "        [1, 0, 0, 1, 3],\n",
        "        [2, 0, 3, 1, 1],\n",
        "        [1, 2, 0, 5, 0],\n",
        "        [1, 0, 0, 4, 4],\n",
        "        [2, 1, 5, 4, 0],\n",
        "        [5, 1, 5, 4, 0],\n",
        "        [0, 0, 0, 1, 0],\n",
        "    ])"
      ],
      "execution_count": null,
      "outputs": []
    },
    {
      "cell_type": "code",
      "metadata": {
        "id": "UXFZkiiQLxIt"
      },
      "source": [
        "R = np.array([\n",
        "    [1, 0, 0, 1, 3],\n",
        "    [2, 0, 3, 1, 1],\n",
        "    [1, 2, 0, 5, 0],\n",
        "    [1, 0, 0, 4, 4],\n",
        "    [2, 1, 5, 4, 0],\n",
        "    [5, 1, 5, 4, 0],\n",
        "    [0, 0, 0, 1, 0],\n",
        "])"
      ],
      "execution_count": null,
      "outputs": []
    },
    {
      "cell_type": "code",
      "metadata": {
        "colab": {
          "base_uri": "https://localhost:8080/"
        },
        "id": "tqSrC0njMn3A",
        "outputId": "a99a3a78-adf9-4933-f6cc-1f3dbd5ba970"
      },
      "source": [
        "factorizer = MatrixFactorization(R, k=3, learning_rate=0.01, reg_param=0.01, epochs=100, verbose=True)\n",
        "factorizer.fit()"
      ],
      "execution_count": null,
      "outputs": [
        {
          "output_type": "stream",
          "name": "stdout",
          "text": [
            "Iteration: 10 ; cost = 1.1069\n",
            "Iteration: 20 ; cost = 0.8315\n",
            "Iteration: 30 ; cost = 0.6356\n",
            "Iteration: 40 ; cost = 0.4749\n",
            "Iteration: 50 ; cost = 0.3495\n",
            "Iteration: 60 ; cost = 0.2602\n",
            "Iteration: 70 ; cost = 0.1995\n",
            "Iteration: 80 ; cost = 0.1576\n",
            "Iteration: 90 ; cost = 0.1274\n",
            "Iteration: 100 ; cost = 0.1047\n"
          ]
        }
      ]
    },
    {
      "cell_type": "code",
      "metadata": {
        "colab": {
          "base_uri": "https://localhost:8080/"
        },
        "id": "WONny97cM0Om",
        "outputId": "6fdbf76e-a2f2-4ae0-82fd-f493c9f45ffc"
      },
      "source": [
        "factorizer.get_complete_matrix()"
      ],
      "execution_count": null,
      "outputs": [
        {
          "output_type": "execute_result",
          "data": {
            "text/plain": [
              "array([[ 1.06504292,  2.05225422,  1.01889099,  1.20010968,  2.82726451],\n",
              "       [ 1.94069948,  1.789526  ,  3.09861778,  0.84920086,  1.1395617 ],\n",
              "       [ 1.03265188,  2.04639538,  3.77597492,  4.91398983,  3.28526234],\n",
              "       [ 0.99409729,  3.40595781,  2.95657879,  3.9682224 ,  4.02834165],\n",
              "       [ 2.06806617,  1.11889158,  5.01492758,  3.83927965,  1.45072879],\n",
              "       [ 4.9241935 ,  0.87717816,  4.94696934,  4.1287508 ,  3.02388713],\n",
              "       [-0.29576677,  0.19097503,  4.13284098,  1.11876574, -1.5697363 ]])"
            ]
          },
          "metadata": {},
          "execution_count": 8
        }
      ]
    },
    {
      "cell_type": "code",
      "metadata": {
        "id": "z9pC2R5fPuvi"
      },
      "source": [
        ""
      ],
      "execution_count": null,
      "outputs": []
    }
  ]
}