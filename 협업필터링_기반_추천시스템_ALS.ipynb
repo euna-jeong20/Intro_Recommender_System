{
  "nbformat": 4,
  "nbformat_minor": 0,
  "metadata": {
    "colab": {
      "name": "협업필터링 기반 추천시스템 - ALS.ipynb",
      "provenance": [],
      "collapsed_sections": [],
      "authorship_tag": "ABX9TyOk5QSyuxfc9VNo/ramHtEz",
      "include_colab_link": true
    },
    "kernelspec": {
      "name": "python3",
      "display_name": "Python 3"
    },
    "language_info": {
      "name": "python"
    }
  },
  "cells": [
    {
      "cell_type": "markdown",
      "metadata": {
        "id": "view-in-github",
        "colab_type": "text"
      },
      "source": [
        "<a href=\"https://colab.research.google.com/github/euna-jeong20/Intro_Recommender_System/blob/main/%ED%98%91%EC%97%85%ED%95%84%ED%84%B0%EB%A7%81_%EA%B8%B0%EB%B0%98_%EC%B6%94%EC%B2%9C%EC%8B%9C%EC%8A%A4%ED%85%9C_ALS.ipynb\" target=\"_parent\"><img src=\"https://colab.research.google.com/assets/colab-badge.svg\" alt=\"Open In Colab\"/></a>"
      ]
    },
    {
      "cell_type": "code",
      "metadata": {
        "id": "EMUnl2pSP4nw"
      },
      "source": [
        "import numpy as np\n",
        "from tqdm import tqdm_notebook as tqdm\n",
        "\n",
        "# Base code : https://github.com/mickeykedia/Matrix-Factorization-ALS/blob/master/ALS%20Python%20Implementation.py\n",
        "class AlternatingLeastSquares():\n",
        "    def __init__(self, R, k, reg_param, epochs, verbose=False):\n",
        "        \"\"\"\n",
        "        :param R: rating matrix\n",
        "        :param k: latent parameter\n",
        "        :param learning_rate: alpha on weight update\n",
        "        :param reg_param: beta on weight update\n",
        "        :param epochs: training epochs\n",
        "        :param verbose: print status\n",
        "        \"\"\"\n",
        "        self._R = R\n",
        "        self._num_users, self._num_items = R.shape\n",
        "        self._k = k\n",
        "        self._reg_param = reg_param\n",
        "        self._epochs = epochs\n",
        "        self._verbose = verbose\n",
        "\n",
        "\n",
        "    def fit(self):\n",
        "        # init latent features\n",
        "        self._users = np.random.normal(size=(self._num_users, self._k))\n",
        "        self._items = np.random.normal(size=(self._num_items, self._k))\n",
        "\n",
        "        # train while epochs\n",
        "        self._training_process = []\n",
        "        self._user_error = 0; self._item_error = 0; \n",
        "        for epoch in range(self._epochs):\n",
        "            for i, Ri in enumerate(self._R):\n",
        "                self._users[i] = self.user_latent(i, Ri)\n",
        "                self._user_error = self.cost()\n",
        "                \n",
        "            for j, Rj in enumerate(self._R.T):\n",
        "                self._items[j] = self.item_latent(j, Rj)\n",
        "                self._item_error = self.cost()\n",
        "                \n",
        "            cost = self.cost()\n",
        "            self._training_process.append((epoch, cost))\n",
        "\n",
        "            # print status\n",
        "            if self._verbose == True and ((epoch + 1) % 10 == 0):\n",
        "                print(\"Iteration: %d ; cost = %.4f\" % (epoch + 1, cost))\n",
        "\n",
        "\n",
        "    def cost(self):\n",
        "        \"\"\"\n",
        "        compute root mean square error\n",
        "        :return: rmse cost\n",
        "        \"\"\"\n",
        "        xi, yi = self._R.nonzero()\n",
        "        cost = 0\n",
        "        for x, y in zip(xi, yi):\n",
        "            cost += pow(self._R[x, y] - self.get_prediction(x, y), 2)\n",
        "        return np.sqrt(cost/len(xi))\n",
        "\n",
        "\n",
        "    def user_latent(self, i, Ri):\n",
        "        \"\"\"\n",
        "        :param error: rating - prediction error\n",
        "        :param i: user index\n",
        "        :param Ri: Rating of user index i\n",
        "        :return: convergence value of user latent of i index\n",
        "        \"\"\"\n",
        "\n",
        "        du = np.linalg.solve(np.dot(self._items.T, np.dot(np.diag(Ri), self._items)) + self._reg_param * np.eye(self._k),\n",
        "                                   np.dot(self._items.T, np.dot(np.diag(Ri), self._R[i].T))).T\n",
        "        return du\n",
        "\n",
        "    def item_latent(self, j, Rj):\n",
        "        \"\"\"\n",
        "        :param error: rating - prediction error\n",
        "        :param j: item index\n",
        "        :param Rj: Rating of item index j\n",
        "        :return: convergence value of itemr latent of j index\n",
        "        \"\"\"\n",
        "\n",
        "        di = np.linalg.solve(np.dot(self._users.T, np.dot(np.diag(Rj), self._users)) + self._reg_param * np.eye(self._k),\n",
        "                                 np.dot(self._users.T, np.dot(np.diag(Rj), self._R[:, j])))\n",
        "        return di\n",
        "\n",
        "\n",
        "    def get_prediction(self, i, j):\n",
        "        \"\"\"\n",
        "        get predicted rating: user_i, item_j\n",
        "        :return: prediction of r_ij\n",
        "        \"\"\"\n",
        "        return self._users[i, :].dot(self._items[j, :].T)\n",
        "\n",
        "\n",
        "    def get_complete_matrix(self):\n",
        "        \"\"\"\n",
        "        :return: complete matrix R^\n",
        "        \"\"\"\n",
        "        return self._users.dot(self._items.T)\n",
        "\n",
        "\n",
        "\n",
        "# run example\n",
        "if __name__ == \"__main__\":\n",
        "    # rating matrix - User X Item : (7 X 5)\n",
        "    R = np.array([\n",
        "        [1, 0, 0, 1, 3],\n",
        "        [2, 0, 3, 1, 1],\n",
        "        [1, 2, 0, 5, 0],\n",
        "        [1, 0, 0, 4, 4],\n",
        "        [2, 1, 5, 4, 0],\n",
        "        [5, 1, 5, 4, 0],\n",
        "        [0, 0, 0, 1, 0],\n",
        "    ])\n"
      ],
      "execution_count": null,
      "outputs": []
    },
    {
      "cell_type": "code",
      "metadata": {
        "colab": {
          "base_uri": "https://localhost:8080/"
        },
        "id": "-65cHSTDQCFJ",
        "outputId": "24daf983-d235-427f-b2ac-43f4275d5fcc"
      },
      "source": [
        "als = AlternatingLeastSquares(R = R, reg_param = 0.01, epochs=100, verbose=True, k=3)\n",
        "als.fit()"
      ],
      "execution_count": null,
      "outputs": [
        {
          "output_type": "stream",
          "name": "stdout",
          "text": [
            "Iteration: 10 ; cost = 0.0092\n",
            "Iteration: 20 ; cost = 0.0072\n",
            "Iteration: 30 ; cost = 0.0069\n",
            "Iteration: 40 ; cost = 0.0071\n",
            "Iteration: 50 ; cost = 0.0071\n",
            "Iteration: 60 ; cost = 0.0070\n",
            "Iteration: 70 ; cost = 0.0069\n",
            "Iteration: 80 ; cost = 0.0068\n",
            "Iteration: 90 ; cost = 0.0067\n",
            "Iteration: 100 ; cost = 0.0065\n"
          ]
        }
      ]
    },
    {
      "cell_type": "code",
      "metadata": {
        "colab": {
          "base_uri": "https://localhost:8080/"
        },
        "id": "dkTyzlL0TDjj",
        "outputId": "1cfb396e-8ece-4c94-df54-131390fd8c37"
      },
      "source": [
        "als.get_complete_matrix()"
      ],
      "execution_count": null,
      "outputs": [
        {
          "output_type": "execute_result",
          "data": {
            "text/plain": [
              "array([[ 0.97700003, -0.02820397,  2.9760709 ,  1.00912045,  2.99710469],\n",
              "       [ 2.00173238, -0.04067176,  2.99793324,  0.9902801 ,  1.00623566],\n",
              "       [ 0.998007  ,  1.9992217 ,  1.68003452,  5.0001865 ,  4.20055099],\n",
              "       [ 0.99313219,  1.47874381,  2.07813461,  3.99912348,  3.99950117],\n",
              "       [ 2.00855623,  1.00058303,  4.99982034,  3.99949583,  6.0754421 ],\n",
              "       [ 4.99939499,  1.0001694 ,  5.00035866,  4.00084071,  0.21978542],\n",
              "       [ 0.07565951,  0.41520513,  0.22258662,  0.99292626,  0.91963777]])"
            ]
          },
          "metadata": {},
          "execution_count": 4
        }
      ]
    },
    {
      "cell_type": "code",
      "metadata": {
        "id": "vsOfxIOtTGZM"
      },
      "source": [
        ""
      ],
      "execution_count": null,
      "outputs": []
    }
  ]
}