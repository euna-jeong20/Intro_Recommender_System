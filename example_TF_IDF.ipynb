{
  "nbformat": 4,
  "nbformat_minor": 0,
  "metadata": {
    "colab": {
      "name": "example TF-IDF.ipynb",
      "provenance": [],
      "collapsed_sections": [],
      "mount_file_id": "12QJiHR8ihLmrtEkZSo0Y6iFgi1EhHHgh",
      "authorship_tag": "ABX9TyPnoP0bvwOFQq8UTmNYp4sN",
      "include_colab_link": true
    },
    "kernelspec": {
      "name": "python3",
      "display_name": "Python 3"
    },
    "language_info": {
      "name": "python"
    }
  },
  "cells": [
    {
      "cell_type": "markdown",
      "metadata": {
        "id": "view-in-github",
        "colab_type": "text"
      },
      "source": [
        "<a href=\"https://colab.research.google.com/github/euna-jeong20/Intro_Recommender_System/blob/main/example_TF_IDF.ipynb\" target=\"_parent\"><img src=\"https://colab.research.google.com/assets/colab-badge.svg\" alt=\"Open In Colab\"/></a>"
      ]
    },
    {
      "cell_type": "markdown",
      "metadata": {
        "id": "UtVcniBadnky"
      },
      "source": [
        "* 예제 : https://wikidocs.net/24603"
      ]
    },
    {
      "cell_type": "code",
      "metadata": {
        "id": "3u2q1Iuld4nv"
      },
      "source": [
        "import pandas as pd\n",
        "import numpy as np\n",
        "from sklearn.feature_extraction.text import TfidfVectorizer"
      ],
      "execution_count": null,
      "outputs": []
    },
    {
      "cell_type": "code",
      "metadata": {
        "colab": {
          "base_uri": "https://localhost:8080/"
        },
        "id": "bNDZZ4J6ehCl",
        "outputId": "aadcf174-cd82-4366-f290-463ec678e081"
      },
      "source": [
        "import os\n",
        "\n",
        "print(os.listdir('/content/drive/MyDrive/recommender_system/movies'))"
      ],
      "execution_count": null,
      "outputs": [
        {
          "output_type": "stream",
          "name": "stdout",
          "text": [
            "['ratings.csv', 'movies_metadata.csv']\n"
          ]
        }
      ]
    },
    {
      "cell_type": "code",
      "metadata": {
        "colab": {
          "base_uri": "https://localhost:8080/",
          "height": 323
        },
        "id": "VsaN-OrTekQY",
        "outputId": "26d5588e-b43f-4cfb-fbea-0033a6cd8de6"
      },
      "source": [
        "path = '/content/drive/MyDrive/recommender_system/movies/'\n",
        "\n",
        "data = pd.read_csv(path + 'movies_metadata.csv', low_memory=False)\n",
        "data.head(2)"
      ],
      "execution_count": null,
      "outputs": [
        {
          "output_type": "execute_result",
          "data": {
            "text/html": [
              "<div>\n",
              "<style scoped>\n",
              "    .dataframe tbody tr th:only-of-type {\n",
              "        vertical-align: middle;\n",
              "    }\n",
              "\n",
              "    .dataframe tbody tr th {\n",
              "        vertical-align: top;\n",
              "    }\n",
              "\n",
              "    .dataframe thead th {\n",
              "        text-align: right;\n",
              "    }\n",
              "</style>\n",
              "<table border=\"1\" class=\"dataframe\">\n",
              "  <thead>\n",
              "    <tr style=\"text-align: right;\">\n",
              "      <th></th>\n",
              "      <th>adult</th>\n",
              "      <th>belongs_to_collection</th>\n",
              "      <th>budget</th>\n",
              "      <th>genres</th>\n",
              "      <th>homepage</th>\n",
              "      <th>id</th>\n",
              "      <th>imdb_id</th>\n",
              "      <th>original_language</th>\n",
              "      <th>original_title</th>\n",
              "      <th>overview</th>\n",
              "      <th>popularity</th>\n",
              "      <th>poster_path</th>\n",
              "      <th>production_companies</th>\n",
              "      <th>production_countries</th>\n",
              "      <th>release_date</th>\n",
              "      <th>revenue</th>\n",
              "      <th>runtime</th>\n",
              "      <th>spoken_languages</th>\n",
              "      <th>status</th>\n",
              "      <th>tagline</th>\n",
              "      <th>title</th>\n",
              "      <th>video</th>\n",
              "      <th>vote_average</th>\n",
              "      <th>vote_count</th>\n",
              "    </tr>\n",
              "  </thead>\n",
              "  <tbody>\n",
              "    <tr>\n",
              "      <th>0</th>\n",
              "      <td>False</td>\n",
              "      <td>{'id': 10194, 'name': 'Toy Story Collection', ...</td>\n",
              "      <td>30000000</td>\n",
              "      <td>[{'id': 16, 'name': 'Animation'}, {'id': 35, '...</td>\n",
              "      <td>http://toystory.disney.com/toy-story</td>\n",
              "      <td>862</td>\n",
              "      <td>tt0114709</td>\n",
              "      <td>en</td>\n",
              "      <td>Toy Story</td>\n",
              "      <td>Led by Woody, Andy's toys live happily in his ...</td>\n",
              "      <td>21.946943</td>\n",
              "      <td>/rhIRbceoE9lR4veEXuwCC2wARtG.jpg</td>\n",
              "      <td>[{'name': 'Pixar Animation Studios', 'id': 3}]</td>\n",
              "      <td>[{'iso_3166_1': 'US', 'name': 'United States o...</td>\n",
              "      <td>1995-10-30</td>\n",
              "      <td>373554033.0</td>\n",
              "      <td>81.0</td>\n",
              "      <td>[{'iso_639_1': 'en', 'name': 'English'}]</td>\n",
              "      <td>Released</td>\n",
              "      <td>NaN</td>\n",
              "      <td>Toy Story</td>\n",
              "      <td>False</td>\n",
              "      <td>7.7</td>\n",
              "      <td>5415.0</td>\n",
              "    </tr>\n",
              "    <tr>\n",
              "      <th>1</th>\n",
              "      <td>False</td>\n",
              "      <td>NaN</td>\n",
              "      <td>65000000</td>\n",
              "      <td>[{'id': 12, 'name': 'Adventure'}, {'id': 14, '...</td>\n",
              "      <td>NaN</td>\n",
              "      <td>8844</td>\n",
              "      <td>tt0113497</td>\n",
              "      <td>en</td>\n",
              "      <td>Jumanji</td>\n",
              "      <td>When siblings Judy and Peter discover an encha...</td>\n",
              "      <td>17.015539</td>\n",
              "      <td>/vzmL6fP7aPKNKPRTFnZmiUfciyV.jpg</td>\n",
              "      <td>[{'name': 'TriStar Pictures', 'id': 559}, {'na...</td>\n",
              "      <td>[{'iso_3166_1': 'US', 'name': 'United States o...</td>\n",
              "      <td>1995-12-15</td>\n",
              "      <td>262797249.0</td>\n",
              "      <td>104.0</td>\n",
              "      <td>[{'iso_639_1': 'en', 'name': 'English'}, {'iso...</td>\n",
              "      <td>Released</td>\n",
              "      <td>Roll the dice and unleash the excitement!</td>\n",
              "      <td>Jumanji</td>\n",
              "      <td>False</td>\n",
              "      <td>6.9</td>\n",
              "      <td>2413.0</td>\n",
              "    </tr>\n",
              "  </tbody>\n",
              "</table>\n",
              "</div>"
            ],
            "text/plain": [
              "   adult  ... vote_count\n",
              "0  False  ...     5415.0\n",
              "1  False  ...     2413.0\n",
              "\n",
              "[2 rows x 24 columns]"
            ]
          },
          "metadata": {},
          "execution_count": 8
        }
      ]
    },
    {
      "cell_type": "code",
      "metadata": {
        "colab": {
          "base_uri": "https://localhost:8080/"
        },
        "id": "t0QMsGGfgBBi",
        "outputId": "474a4420-fb8c-4286-f1d7-e213531f9804"
      },
      "source": [
        "data.shape"
      ],
      "execution_count": null,
      "outputs": [
        {
          "output_type": "execute_result",
          "data": {
            "text/plain": [
              "(45466, 24)"
            ]
          },
          "metadata": {},
          "execution_count": 9
        }
      ]
    },
    {
      "cell_type": "code",
      "metadata": {
        "colab": {
          "base_uri": "https://localhost:8080/"
        },
        "id": "Ni_9NjbjfP7d",
        "outputId": "6d6df07b-734c-4bdb-c128-8b63c1c0e699"
      },
      "source": [
        "data.columns"
      ],
      "execution_count": null,
      "outputs": [
        {
          "output_type": "execute_result",
          "data": {
            "text/plain": [
              "Index(['adult', 'belongs_to_collection', 'budget', 'genres', 'homepage', 'id',\n",
              "       'imdb_id', 'original_language', 'original_title', 'overview',\n",
              "       'popularity', 'poster_path', 'production_companies',\n",
              "       'production_countries', 'release_date', 'revenue', 'runtime',\n",
              "       'spoken_languages', 'status', 'tagline', 'title', 'video',\n",
              "       'vote_average', 'vote_count'],\n",
              "      dtype='object')"
            ]
          },
          "metadata": {},
          "execution_count": 10
        }
      ]
    },
    {
      "cell_type": "code",
      "metadata": {
        "colab": {
          "base_uri": "https://localhost:8080/"
        },
        "id": "1vJUooFqezph",
        "outputId": "841251ba-96aa-4771-9a4e-fd693430df5d"
      },
      "source": [
        "data['overview'].head()     #영화가 어떤건지 설명"
      ],
      "execution_count": null,
      "outputs": [
        {
          "output_type": "execute_result",
          "data": {
            "text/plain": [
              "0    Led by Woody, Andy's toys live happily in his ...\n",
              "1    When siblings Judy and Peter discover an encha...\n",
              "2    A family wedding reignites the ancient feud be...\n",
              "3    Cheated on, mistreated and stepped on, the wom...\n",
              "4    Just when George Banks has recovered from his ...\n",
              "Name: overview, dtype: object"
            ]
          },
          "metadata": {},
          "execution_count": 11
        }
      ]
    },
    {
      "cell_type": "markdown",
      "metadata": {
        "id": "oNsVq7MifYuG"
      },
      "source": [
        "# 데이터 전처리"
      ]
    },
    {
      "cell_type": "markdown",
      "metadata": {
        "id": "KiDPVCOMfD-s"
      },
      "source": [
        "* 결측치 제거"
      ]
    },
    {
      "cell_type": "code",
      "metadata": {
        "colab": {
          "base_uri": "https://localhost:8080/"
        },
        "id": "o0Ic3P66ffZp",
        "outputId": "ca75795f-98c7-4a00-f549-a417271320e6"
      },
      "source": [
        "data = data[data['overview'].notnull()].reset_index(drop=True)      #data['overview'].notnull() 결측치가 없으면 True reset_index로 재정렬\n",
        "data.shape"
      ],
      "execution_count": null,
      "outputs": [
        {
          "output_type": "execute_result",
          "data": {
            "text/plain": [
              "(44512, 24)"
            ]
          },
          "metadata": {},
          "execution_count": 12
        }
      ]
    },
    {
      "cell_type": "code",
      "metadata": {
        "id": "M7s9PaCof-U9"
      },
      "source": [
        "data = data.loc[:20000].reset_index(drop=True)"
      ],
      "execution_count": null,
      "outputs": []
    },
    {
      "cell_type": "code",
      "metadata": {
        "colab": {
          "base_uri": "https://localhost:8080/"
        },
        "id": "4bcPpGkwgyQT",
        "outputId": "e04d3b31-f955-4d12-ce42-daae639e5df1"
      },
      "source": [
        "# 불용어 : 유의미하지 않은 단어 토큰을 제거\n",
        "tfidf = TfidfVectorizer(stop_words='english')\n",
        "\n",
        "#overview에 대해서 tf-idf 수행\n",
        "tfidf_matrix = tfidf.fit_transform(data['overview'])\n",
        "print(tfidf_matrix.shape)"
      ],
      "execution_count": null,
      "outputs": [
        {
          "output_type": "stream",
          "name": "stdout",
          "text": [
            "(20001, 47665)\n"
          ]
        }
      ]
    },
    {
      "cell_type": "code",
      "metadata": {
        "id": "l99IVPnghDOK"
      },
      "source": [
        "from sklearn.metrics.pairwise import cosine_similarity\n",
        "\n",
        "cosine_matrix = cosine_similarity(tfidf_matrix, tfidf_matrix)"
      ],
      "execution_count": null,
      "outputs": []
    },
    {
      "cell_type": "code",
      "metadata": {
        "colab": {
          "base_uri": "https://localhost:8080/"
        },
        "id": "dki1VEIMhIhJ",
        "outputId": "08205bae-834b-48f0-88dd-7956284beacd"
      },
      "source": [
        "cosine_matrix.shape"
      ],
      "execution_count": null,
      "outputs": [
        {
          "output_type": "execute_result",
          "data": {
            "text/plain": [
              "(20001, 20001)"
            ]
          },
          "metadata": {},
          "execution_count": 23
        }
      ]
    },
    {
      "cell_type": "code",
      "metadata": {
        "colab": {
          "base_uri": "https://localhost:8080/"
        },
        "id": "z-pxPUBYid6T",
        "outputId": "1e14dfab-75b9-4b1f-ee7b-fa47b2a924ed"
      },
      "source": [
        "np.round(cosine_matrix, 4)"
      ],
      "execution_count": null,
      "outputs": [
        {
          "output_type": "execute_result",
          "data": {
            "text/plain": [
              "array([[1.    , 0.0158, 0.    , ..., 0.0083, 0.0172, 0.    ],\n",
              "       [0.0158, 1.    , 0.0492, ..., 0.0057, 0.008 , 0.    ],\n",
              "       [0.    , 0.0492, 1.    , ..., 0.    , 0.    , 0.    ],\n",
              "       ...,\n",
              "       [0.0083, 0.0057, 0.    , ..., 1.    , 0.0144, 0.    ],\n",
              "       [0.0172, 0.008 , 0.    , ..., 0.0144, 1.    , 0.0183],\n",
              "       [0.    , 0.    , 0.    , ..., 0.    , 0.0183, 1.    ]])"
            ]
          },
          "metadata": {},
          "execution_count": 24
        }
      ]
    },
    {
      "cell_type": "code",
      "metadata": {
        "id": "lju2xgVvim2x"
      },
      "source": [
        "# cosine-matirx 의 인덱스 영화 이름으로 생각하기\n",
        "\n",
        "# movie title과 id를 매핑할 dictionary\n",
        "movie2id = {}\n",
        "for i,c in enumerate(data['title']):\n",
        "    movie2id[i] = c\n",
        "\n",
        "# id와 movie title을 매핑할 dictionary\n",
        "id2movie = {}\n",
        "for i, c in movie2id.items():       #movie2id.items()는 [(key, value)]\n",
        "    id2movie[c] = i"
      ],
      "execution_count": null,
      "outputs": []
    },
    {
      "cell_type": "code",
      "metadata": {
        "id": "JjqEnc2qjI8A"
      },
      "source": [
        "movie2id "
      ],
      "execution_count": null,
      "outputs": []
    },
    {
      "cell_type": "markdown",
      "metadata": {
        "id": "_C437uRFoRNw"
      },
      "source": [
        "* Toy story overview 기준으로 TF-IDF 정렬해보기"
      ]
    },
    {
      "cell_type": "code",
      "metadata": {
        "colab": {
          "base_uri": "https://localhost:8080/"
        },
        "id": "ysQLbZ_Tk4tz",
        "outputId": "f5c20dcf-2fc6-4ec0-fd4a-e3f3bf0eb27b"
      },
      "source": [
        "idx = id2movie['Toy Story']\n",
        "idx"
      ],
      "execution_count": null,
      "outputs": [
        {
          "output_type": "execute_result",
          "data": {
            "text/plain": [
              "0"
            ]
          },
          "metadata": {},
          "execution_count": 33
        }
      ]
    },
    {
      "cell_type": "code",
      "metadata": {
        "id": "6u0eWNcQlJcS"
      },
      "source": [
        "sim_scores = [(i, c) for i, c in enumerate(cosine_matrix[idx]) if i != idx]      #자기 자실을 제외한 영화들의 유사도 및 인덱스를 추출\n",
        "sim_scores"
      ],
      "execution_count": null,
      "outputs": []
    },
    {
      "cell_type": "markdown",
      "metadata": {
        "id": "OT7pV4n3ma0Q"
      },
      "source": [
        "* 객체의 인덱스 중 일부를 키로 사용하여 복잡한 객체를 정렬\n",
        "\n",
        "* x[1]은 sim_scores의 1번째 자리의 값(자기자신과의 코사인 유사도를 제외한 나머지 코사인 유사도)"
      ]
    },
    {
      "cell_type": "code",
      "metadata": {
        "colab": {
          "base_uri": "https://localhost:8080/"
        },
        "id": "GEVdghz-l1V4",
        "outputId": "1773aab2-e4d7-43b4-9dbb-b14431d427ae"
      },
      "source": [
        "sim_scores = sorted(sim_scores, key = lambda x : x[1], reverse=True)    #내림차순\n",
        "sim_scores[:10]"
      ],
      "execution_count": null,
      "outputs": [
        {
          "output_type": "execute_result",
          "data": {
            "text/plain": [
              "[(15282, 0.5262275451171008),\n",
              " (2979, 0.463276799830381),\n",
              " (10271, 0.2797390476075632),\n",
              " (8303, 0.20078538664316947),\n",
              " (1058, 0.18287334034120212),\n",
              " (11367, 0.15712074193481165),\n",
              " (1916, 0.15288512626542436),\n",
              " (3039, 0.1433450408051554),\n",
              " (483, 0.13765225108436677),\n",
              " (11573, 0.1337032693869044)]"
            ]
          },
          "metadata": {},
          "execution_count": 39
        }
      ]
    },
    {
      "cell_type": "code",
      "metadata": {
        "colab": {
          "base_uri": "https://localhost:8080/"
        },
        "id": "gb0VajyAm2ck",
        "outputId": "fe383ad2-dc87-419c-871e-58219b22d885"
      },
      "source": [
        "sim_scores = [(movie2id[i], score) for i, score in sim_scores[0:10]]\n",
        "sim_scores"
      ],
      "execution_count": null,
      "outputs": [
        {
          "output_type": "execute_result",
          "data": {
            "text/plain": [
              "[('Toy Story 3', 0.5262275451171008),\n",
              " ('Toy Story 2', 0.463276799830381),\n",
              " ('The 40 Year Old Virgin', 0.2797390476075632),\n",
              " ('The Champ', 0.20078538664316947),\n",
              " ('Rebel Without a Cause', 0.18287334034120212),\n",
              " ('For Your Consideration', 0.15712074193481165),\n",
              " ('Condorman', 0.15288512626542436),\n",
              " ('Man on the Moon', 0.1433450408051554),\n",
              " ('Malice', 0.13765225108436677),\n",
              " ('Factory Girl', 0.1337032693869044)]"
            ]
          },
          "metadata": {},
          "execution_count": 44
        }
      ]
    },
    {
      "cell_type": "code",
      "metadata": {
        "id": "_Q_9u3XenQDl"
      },
      "source": [
        ""
      ],
      "execution_count": null,
      "outputs": []
    }
  ]
}